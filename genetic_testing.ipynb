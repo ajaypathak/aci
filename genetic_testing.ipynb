{
 "cells": [
  {
   "cell_type": "code",
   "execution_count": 1,
   "metadata": {},
   "outputs": [],
   "source": [
    "import pandas as pd\n",
    "import numpy as np\n",
    "import random\n",
    "from itertools import permutations\n",
    "from collections import Counter\n",
    "import matplotlib.pyplot as plt"
   ]
  },
  {
   "cell_type": "markdown",
   "metadata": {},
   "source": [
    "### Creating the transition matrix"
   ]
  },
  {
   "cell_type": "code",
   "execution_count": 2,
   "metadata": {},
   "outputs": [
    {
     "data": {
      "text/html": [
       "<div>\n",
       "<style scoped>\n",
       "    .dataframe tbody tr th:only-of-type {\n",
       "        vertical-align: middle;\n",
       "    }\n",
       "\n",
       "    .dataframe tbody tr th {\n",
       "        vertical-align: top;\n",
       "    }\n",
       "\n",
       "    .dataframe thead th {\n",
       "        text-align: right;\n",
       "    }\n",
       "</style>\n",
       "<table border=\"1\" class=\"dataframe\">\n",
       "  <thead>\n",
       "    <tr style=\"text-align: right;\">\n",
       "      <th></th>\n",
       "      <th>Bhubaneshwar Airport</th>\n",
       "      <th>Lingraj Temple</th>\n",
       "      <th>Mukteshwar temple</th>\n",
       "      <th>Raja Rani temple</th>\n",
       "      <th>Shanthi Stupa</th>\n",
       "      <th>Tribal museum</th>\n",
       "      <th>Udhayagiri &amp; Kandhagiri</th>\n",
       "    </tr>\n",
       "  </thead>\n",
       "  <tbody>\n",
       "    <tr>\n",
       "      <th>Bhubaneshwar Airport</th>\n",
       "      <td>0.0</td>\n",
       "      <td>30.0</td>\n",
       "      <td>35.0</td>\n",
       "      <td>55.0</td>\n",
       "      <td>55.0</td>\n",
       "      <td>50.0</td>\n",
       "      <td>48.0</td>\n",
       "    </tr>\n",
       "    <tr>\n",
       "      <th>Lingraj Temple</th>\n",
       "      <td>30.0</td>\n",
       "      <td>0.0</td>\n",
       "      <td>5.0</td>\n",
       "      <td>25.0</td>\n",
       "      <td>25.0</td>\n",
       "      <td>20.0</td>\n",
       "      <td>27.0</td>\n",
       "    </tr>\n",
       "    <tr>\n",
       "      <th>Mukteshwar temple</th>\n",
       "      <td>35.0</td>\n",
       "      <td>5.0</td>\n",
       "      <td>0.0</td>\n",
       "      <td>20.0</td>\n",
       "      <td>30.0</td>\n",
       "      <td>15.0</td>\n",
       "      <td>22.0</td>\n",
       "    </tr>\n",
       "    <tr>\n",
       "      <th>Raja Rani temple</th>\n",
       "      <td>55.0</td>\n",
       "      <td>25.0</td>\n",
       "      <td>20.0</td>\n",
       "      <td>0.0</td>\n",
       "      <td>50.0</td>\n",
       "      <td>35.0</td>\n",
       "      <td>18.0</td>\n",
       "    </tr>\n",
       "    <tr>\n",
       "      <th>Shanthi Stupa</th>\n",
       "      <td>55.0</td>\n",
       "      <td>25.0</td>\n",
       "      <td>30.0</td>\n",
       "      <td>50.0</td>\n",
       "      <td>0.0</td>\n",
       "      <td>45.0</td>\n",
       "      <td>52.0</td>\n",
       "    </tr>\n",
       "    <tr>\n",
       "      <th>Tribal museum</th>\n",
       "      <td>50.0</td>\n",
       "      <td>20.0</td>\n",
       "      <td>15.0</td>\n",
       "      <td>35.0</td>\n",
       "      <td>45.0</td>\n",
       "      <td>0.0</td>\n",
       "      <td>37.0</td>\n",
       "    </tr>\n",
       "    <tr>\n",
       "      <th>Udhayagiri &amp; Kandhagiri</th>\n",
       "      <td>48.0</td>\n",
       "      <td>27.0</td>\n",
       "      <td>22.0</td>\n",
       "      <td>18.0</td>\n",
       "      <td>52.0</td>\n",
       "      <td>37.0</td>\n",
       "      <td>0.0</td>\n",
       "    </tr>\n",
       "  </tbody>\n",
       "</table>\n",
       "</div>"
      ],
      "text/plain": [
       "                         Bhubaneshwar Airport  Lingraj Temple   \n",
       "Bhubaneshwar Airport                      0.0            30.0  \\\n",
       "Lingraj Temple                           30.0             0.0   \n",
       "Mukteshwar temple                        35.0             5.0   \n",
       "Raja Rani temple                         55.0            25.0   \n",
       "Shanthi Stupa                            55.0            25.0   \n",
       "Tribal museum                            50.0            20.0   \n",
       "Udhayagiri & Kandhagiri                  48.0            27.0   \n",
       "\n",
       "                         Mukteshwar temple  Raja Rani temple  Shanthi Stupa   \n",
       "Bhubaneshwar Airport                  35.0              55.0           55.0  \\\n",
       "Lingraj Temple                         5.0              25.0           25.0   \n",
       "Mukteshwar temple                      0.0              20.0           30.0   \n",
       "Raja Rani temple                      20.0               0.0           50.0   \n",
       "Shanthi Stupa                         30.0              50.0            0.0   \n",
       "Tribal museum                         15.0              35.0           45.0   \n",
       "Udhayagiri & Kandhagiri               22.0              18.0           52.0   \n",
       "\n",
       "                         Tribal museum  Udhayagiri & Kandhagiri  \n",
       "Bhubaneshwar Airport              50.0                     48.0  \n",
       "Lingraj Temple                    20.0                     27.0  \n",
       "Mukteshwar temple                 15.0                     22.0  \n",
       "Raja Rani temple                  35.0                     18.0  \n",
       "Shanthi Stupa                     45.0                     52.0  \n",
       "Tribal museum                      0.0                     37.0  \n",
       "Udhayagiri & Kandhagiri           37.0                      0.0  "
      ]
     },
     "execution_count": 2,
     "metadata": {},
     "output_type": "execute_result"
    }
   ],
   "source": [
    "def apply_floyd_warshall(df):\n",
    "    n_nodes = len(df)\n",
    "    for k in range(n_nodes):\n",
    "        for i in range(n_nodes):\n",
    "            for j in range(n_nodes):\n",
    "                if df.iloc[i, j] > df.iloc[i, k] + df.iloc[k, j]:\n",
    "                    df.iloc[i, j] = df.iloc[i, k] + df.iloc[k, j]\n",
    "                    df.iloc[j, i] = df.iloc[i, j]\n",
    "    return df\n",
    "\n",
    "# starting matrix with edge weights\n",
    "nodes = ['Bhubaneshwar Airport', 'Lingraj Temple', 'Mukteshwar temple', 'Raja Rani temple', 'Shanthi Stupa', 'Tribal museum', 'Udhayagiri & Kandhagiri']\n",
    "dist_dict = {\n",
    "    'Bhubaneshwar Airport': { 'Lingraj Temple': 30, 'Udhayagiri & Kandhagiri': 48},\n",
    "    'Lingraj Temple': { 'Shanthi Stupa': 25, 'Mukteshwar temple': 5, 'Udhayagiri & Kandhagiri': 28, 'Bhubaneshwar Airport': 30},\n",
    "    'Shanthi Stupa': { 'Lingraj Temple': 25, 'Mukteshwar temple': 45, 'Tribal museum': 50},\n",
    "    'Mukteshwar temple': { 'Lingraj Temple': 5, 'Shanthi Stupa': 45, 'Tribal museum': 15, 'Raja Rani temple': 20, 'Udhayagiri & Kandhagiri': 22},\n",
    "    'Tribal museum': { 'Shanthi Stupa': 50, 'Mukteshwar temple': 15},\n",
    "    'Udhayagiri & Kandhagiri': { 'Bhubaneshwar Airport': 48, 'Lingraj Temple': 28, 'Mukteshwar temple': 22, 'Raja Rani temple': 18},\n",
    "    'Raja Rani temple': { 'Mukteshwar temple': 20, 'Udhayagiri & Kandhagiri': 18}\n",
    "}\n",
    "# adding self loops, zero distance\n",
    "for key in dist_dict.keys():\n",
    "    dist_dict[key][key] = 0\n",
    "\n",
    "dist_df = pd.DataFrame(dist_dict, columns=nodes, index=nodes).fillna(np.inf)\n",
    "dist_df = apply_floyd_warshall(dist_df)\n",
    "dist_df"
   ]
  },
  {
   "cell_type": "markdown",
   "metadata": {},
   "source": [
    "### Running (simplified) Genetic Algorithm for TSP"
   ]
  },
  {
   "cell_type": "code",
   "execution_count": 3,
   "metadata": {},
   "outputs": [],
   "source": [
    "def calculate_fitness(order):\n",
    "    fitness = 0\n",
    "    for i in range(len(order)):\n",
    "        fitness += dist_df.iloc[order[i], order[(i+1)% len(order)]]\n",
    "    return 1 / fitness"
   ]
  },
  {
   "cell_type": "code",
   "execution_count": 4,
   "metadata": {},
   "outputs": [
    {
     "data": {
      "text/plain": [
       "{'order': array([6, 0, 5, 4, 3, 1, 2]), 'fitness': 0.004081632653061225}"
      ]
     },
     "execution_count": 4,
     "metadata": {},
     "output_type": "execute_result"
    }
   ],
   "source": [
    "# Structure of chromosome\n",
    "\n",
    "# chromosome structure will be like:\n",
    "order = np.random.permutation(np.arange(7))\n",
    "chr1 = {\n",
    "    'order': order,\n",
    "    'fitness': calculate_fitness(order),\n",
    "}\n",
    "chr1"
   ]
  },
  {
   "cell_type": "code",
   "execution_count": 5,
   "metadata": {},
   "outputs": [],
   "source": [
    "population = []\n",
    "for i in range(10):\n",
    "    order = np.random.permutation(np.arange(7))\n",
    "    population.append({\n",
    "        'order': order,\n",
    "        'fitness': calculate_fitness(order)\n",
    "    })\n",
    "\n",
    "population = sorted(population, key=lambda x: x['fitness'], reverse=True)"
   ]
  },
  {
   "cell_type": "code",
   "execution_count": 6,
   "metadata": {},
   "outputs": [],
   "source": [
    "def mutation(p, p_m = 0.1):\n",
    "    # simple swap mutation, swaps two cities in the order\n",
    "    order = p['order'].copy()\n",
    "    if random.random() < p_m:\n",
    "        i = random.randint(0, len(order) - 1)\n",
    "        j = random.randint(0, len(order) - 1)\n",
    "        order[i], order[j] = order[j], order[i]\n",
    "    return {'order': order, 'fitness': calculate_fitness(order)}"
   ]
  },
  {
   "cell_type": "code",
   "execution_count": 7,
   "metadata": {},
   "outputs": [
    {
     "name": "stdout",
     "output_type": "stream",
     "text": [
      "{'order': array([6, 4, 0, 1, 2, 5, 3]), 'fitness': 0.004761904761904762} 209.99999999999997\n",
      "{'order': array([6, 0, 4, 1, 2, 5, 3]), 'fitness': 0.004975124378109453} 201.0\n",
      "{'order': array([6, 0, 4, 1, 2, 5, 3]), 'fitness': 0.004975124378109453} 201.0\n",
      "{'order': array([6, 0, 4, 1, 2, 5, 3]), 'fitness': 0.004975124378109453} 201.0\n",
      "{'order': array([6, 0, 4, 1, 2, 5, 3]), 'fitness': 0.004975124378109453} 201.0\n",
      "{'order': array([6, 0, 4, 1, 2, 5, 3]), 'fitness': 0.004975124378109453} 201.0\n",
      "{'order': array([6, 0, 4, 1, 2, 5, 3]), 'fitness': 0.004975124378109453} 201.0\n",
      "{'order': array([6, 0, 4, 1, 2, 5, 3]), 'fitness': 0.004975124378109453} 201.0\n",
      "{'order': array([6, 0, 4, 1, 2, 5, 3]), 'fitness': 0.004975124378109453} 201.0\n",
      "{'order': array([6, 0, 4, 1, 2, 5, 3]), 'fitness': 0.004975124378109453} 201.0\n"
     ]
    }
   ],
   "source": [
    "for i in range(1000):\n",
    "    # Select the top 5 individuals to mutate, mutate them, and add them to the population\n",
    "    to_mutate = population[:5]\n",
    "    mutated = [mutation(x) for x in to_mutate]\n",
    "    population = population + mutated\n",
    "    # Select the top 10 individuals, and discard the rest\n",
    "    population = sorted(population, key=lambda x: x['fitness'], reverse=True)\n",
    "    population = population[:10]\n",
    "    # Print the best individual every 100 iterations\n",
    "    if i % 100 == 0:\n",
    "        print(population[0], 1 / population[0]['fitness'])"
   ]
  },
  {
   "cell_type": "code",
   "execution_count": 8,
   "metadata": {},
   "outputs": [
    {
     "name": "stdout",
     "output_type": "stream",
     "text": [
      "[0, 4, 1, 2, 5, 3, 6]\n",
      "Bhubaneshwar Airport > Shanthi Stupa > Lingraj Temple > Mukteshwar temple > Tribal museum > Raja Rani temple > Udhayagiri & Kandhagiri > Bhubaneshwar Airport\n",
      "Distances:  [55.0, 25.0, 5.0, 15.0, 35.0, 18.0, 48.0]\n",
      "Total distance:  201.0\n"
     ]
    }
   ],
   "source": [
    "# rotate the order of the cities in the path until Bhuwaneswar Airport is the first location in the path\n",
    "order = list(population[0]['order'])\n",
    "while order[0] != 0:\n",
    "    order = order[1:] + [order[0]]\n",
    "\n",
    "print(order)\n",
    "\n",
    "path = [nodes[i] for i in order] + [nodes[order[0]]]\n",
    "print(' > '.join(path))\n",
    "distances = [dist_df.loc[path[i], path[i+1]] for i in range(len(path)-1)]\n",
    "print('Distances: ', distances)\n",
    "print('Total distance: ', sum(distances))"
   ]
  },
  {
   "cell_type": "markdown",
   "metadata": {},
   "source": [
    "### Verifying the answer is correct"
   ]
  },
  {
   "cell_type": "code",
   "execution_count": 9,
   "metadata": {},
   "outputs": [
    {
     "name": "stdout",
     "output_type": "stream",
     "text": [
      "(0, 1, 4, 2, 5, 3, 6) 201.0\n"
     ]
    }
   ],
   "source": [
    "# generating all the permutations of 7 cities, and finding the best one\n",
    "permutations = list(permutations(range(7)))\n",
    "\n",
    "max_fitness = 0\n",
    "best_perm = None\n",
    "for perm in permutations:\n",
    "    fit = calculate_fitness(perm)\n",
    "    if fit > max_fitness:\n",
    "        max_fitness = fit\n",
    "        best_perm = perm\n",
    "\n",
    "print(best_perm, 1/max_fitness)"
   ]
  },
  {
   "cell_type": "markdown",
   "metadata": {},
   "source": [
    "### Verifying the solution is easy to get to"
   ]
  },
  {
   "cell_type": "code",
   "execution_count": 10,
   "metadata": {},
   "outputs": [
    {
     "name": "stdout",
     "output_type": "stream",
     "text": [
      "You have a 1.11% chance of getting the best path while generating random paths.\n"
     ]
    },
    {
     "data": {
      "text/plain": [
       "Text(0, 0.5, 'Frequency')"
      ]
     },
     "execution_count": 10,
     "metadata": {},
     "output_type": "execute_result"
    },
    {
     "data": {
      "image/png": "[encoded data removed]",
      "text/plain": [
       "<Figure size 640x480 with 1 Axes>"
      ]
     },
     "metadata": {},
     "output_type": "display_data"
    }
   ],
   "source": [
    "fitness_scores = [calculate_fitness(perm) for perm in permutations]\n",
    "\n",
    "counter = dict(Counter(fitness_scores))\n",
    "xs, ys = zip(*sorted(counter.items()))\n",
    "\n",
    "print(f\"You have a {ys[-1] / sum(ys):.2%} chance of getting the best path while generating random paths.\")\n",
    "\n",
    "plt.plot(xs, ys, 'o-', color='black', markersize=2)\n",
    "plt.xlabel(\"Fitness Score\")\n",
    "plt.ylabel(\"Frequency\")"
   ]
  }
 ],
 "metadata": {
  "kernelspec": {
   "display_name": "Python 3",
   "language": "python",
   "name": "python3"
  },
  "language_info": {
   "codemirror_mode": {
    "name": "ipython",
    "version": 3
   },
   "file_extension": ".py",
   "mimetype": "text/x-python",
   "name": "python",
   "nbconvert_exporter": "python",
   "pygments_lexer": "ipython3",
   "version": "3.11.3"
  },
  "orig_nbformat": 4
 },
 "nbformat": 4,
 "nbformat_minor": 2
}
